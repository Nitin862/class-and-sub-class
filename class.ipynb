{
 "cells": [
  {
   "cell_type": "code",
   "execution_count": 1,
   "id": "fab76ddd-601b-402d-abfe-8b03a341799b",
   "metadata": {},
   "outputs": [
    {
     "data": {
      "text/plain": [
       "'1.Q1, Create a vehicle class with an init method having instance variables as name_of_vehicle, max_speed\\nand average_of_vehicle.'"
      ]
     },
     "execution_count": 1,
     "metadata": {},
     "output_type": "execute_result"
    }
   ],
   "source": [
    "'''1.Q1, Create a vehicle class with an init method having instance variables as name_of_vehicle, max_speed\n",
    "and average_of_vehicle.'''"
   ]
  },
  {
   "cell_type": "code",
   "execution_count": 3,
   "id": "23ac344a-62fe-4389-8b97-63095b296e61",
   "metadata": {},
   "outputs": [
    {
     "name": "stdout",
     "output_type": "stream",
     "text": [
      "BMW\n",
      "200\n",
      "20\n"
     ]
    }
   ],
   "source": [
    "class vehicle :\n",
    "    def __init__(self,name_of_vehicle,max_speed,average_of_vehicle):\n",
    "        self.name_of_vehicle=name_of_vehicle\n",
    "        self.max_speed=max_speed\n",
    "        self.average_of_vehicle=average_of_vehicle\n",
    "        \n",
    "l=vehicle(\"BMW\",200,20)\n",
    "print(l.name_of_vehicle)\n",
    "print(l.max_speed)\n",
    "print(l.average_of_vehicle)"
   ]
  },
  {
   "cell_type": "code",
   "execution_count": 4,
   "id": "70a59b60-b99f-4beb-b83b-b93ccbd30b79",
   "metadata": {},
   "outputs": [
    {
     "data": {
      "text/plain": [
       "'2.Question 2: Create a child class car from the vehicle class created in Que 1, which will inherit the vehicle\\nclass.Create a method named seating_capacity which takes capacity as an argument and returns the name of the vehicle and its seating capacity.'"
      ]
     },
     "execution_count": 4,
     "metadata": {},
     "output_type": "execute_result"
    }
   ],
   "source": [
    "'''2.Question 2: Create a child class car from the vehicle class created in Que 1, which will inherit the vehicle\n",
    "class.Create a method named seating_capacity which takes capacity as an argument and returns the name of the vehicle and its seating capacity.'''"
   ]
  },
  {
   "cell_type": "code",
   "execution_count": 6,
   "id": "45571dd5-60bc-4d0a-b588-e4b4ee09ffdd",
   "metadata": {},
   "outputs": [
    {
     "data": {
      "text/plain": [
       "('TATA', 4)"
      ]
     },
     "execution_count": 6,
     "metadata": {},
     "output_type": "execute_result"
    }
   ],
   "source": [
    "class child(vehicle):\n",
    "    def seating_capacity(self,capacity):\n",
    "        self.capacity=capacity\n",
    "        return self.name_of_vehicle,self.capacity\n",
    "    \n",
    "l=child(\"TATA\",150,25)\n",
    "l.seating_capacity(4)"
   ]
  },
  {
   "cell_type": "code",
   "execution_count": 7,
   "id": "ade56533-d513-4523-98be-0acf4eebd84f",
   "metadata": {},
   "outputs": [
    {
     "data": {
      "text/plain": [
       "'3Question 3: What is multiple inheritance? Write a python code to demonstrate multiple inheritance.'"
      ]
     },
     "execution_count": 7,
     "metadata": {},
     "output_type": "execute_result"
    }
   ],
   "source": [
    "'''3Question 3: What is multiple inheritance? Write a python code to demonstrate multiple inheritance.'''"
   ]
  },
  {
   "cell_type": "code",
   "execution_count": 8,
   "id": "a30e3a8a-4a70-4a2f-8b49-320511522449",
   "metadata": {},
   "outputs": [
    {
     "name": "stdout",
     "output_type": "stream",
     "text": [
      "pwskills\n",
      "company\n",
      "valuation\n"
     ]
    }
   ],
   "source": [
    "class class1:\n",
    "    def a(self):\n",
    "        print(\"pwskills\")\n",
    "        \n",
    "class class2 :\n",
    "    def b(self):\n",
    "        print(\"company\")\n",
    "        \n",
    "class class3(class1,class2):\n",
    "    def c(self):\n",
    "        print(\"valuation\")\n",
    "        \n",
    "l=class3()\n",
    "l.a()\n",
    "l.b()\n",
    "l.c()"
   ]
  },
  {
   "cell_type": "code",
   "execution_count": 9,
   "id": "b1c28e18-9fd8-4497-8459-4a9364bc5842",
   "metadata": {},
   "outputs": [
    {
     "data": {
      "text/plain": [
       "'4.Question 4 : What are getter and setter in python? Create a class and create a getter and a setter method in this class.'"
      ]
     },
     "execution_count": 9,
     "metadata": {},
     "output_type": "execute_result"
    }
   ],
   "source": [
    "'''4.Question 4 : What are getter and setter in python? Create a class and create a getter and a setter method in this class.'''"
   ]
  },
  {
   "cell_type": "code",
   "execution_count": 11,
   "id": "c562f1de-e673-442e-80e2-1a07e408eb5f",
   "metadata": {},
   "outputs": [
    {
     "name": "stdout",
     "output_type": "stream",
     "text": [
      "2024\n",
      "Porche \n",
      "\n",
      "2023\n",
      "BMW\n"
     ]
    }
   ],
   "source": [
    "class car:\n",
    "    def __init__(self,year,make):\n",
    "        self.__year=year\n",
    "        self.__make=make\n",
    "        \n",
    "        \n",
    "    def get_year(self):\n",
    "        return self.__year\n",
    "    \n",
    "    def set_year(self,nyear):\n",
    "        self.__year=nyear\n",
    "        \n",
    "    def get_make(self):\n",
    "        return self.__make\n",
    "    \n",
    "    def set_make(self,nmake):\n",
    "        self.__make=nmake\n",
    "        \n",
    "        \n",
    "l=car(2024,\"Porche\")\n",
    "print(l.get_year())\n",
    "print(l.get_make(),\"\\n\")\n",
    "\n",
    "\n",
    "l.set_year(2023)\n",
    "l.set_make(\"BMW\")\n",
    "       \n",
    "print(l.get_year())\n",
    "print(l.get_make())"
   ]
  },
  {
   "cell_type": "code",
   "execution_count": 13,
   "id": "d85c73e0-fe0d-414d-98b9-7381362b504e",
   "metadata": {},
   "outputs": [
    {
     "data": {
      "text/plain": [
       "'5.Question 5 : What is method overriding in python? Write a python code to demonstrate method overriding'"
      ]
     },
     "execution_count": 13,
     "metadata": {},
     "output_type": "execute_result"
    }
   ],
   "source": [
    "'''5.Question 5 : What is method overriding in python? Write a python code to demonstrate method overriding'''"
   ]
  },
  {
   "cell_type": "code",
   "execution_count": 14,
   "id": "5ee12f01-4c3d-4fa0-b5dc-072a89d38dd3",
   "metadata": {},
   "outputs": [
    {
     "name": "stdout",
     "output_type": "stream",
     "text": [
      "phone is a useful device \n",
      "car helps in travelling \n"
     ]
    }
   ],
   "source": [
    "class phone :\n",
    "    def function(self):\n",
    "        print(\"phone is a useful device \")\n",
    "        \n",
    "class car :\n",
    "    def function(self):\n",
    "        print(\"car helps in travelling \")\n",
    "        \n",
    "p=phone()\n",
    "c=car()\n",
    "\n",
    "p.function()\n",
    "c.function()"
   ]
  },
  {
   "cell_type": "code",
   "execution_count": null,
   "id": "380ffc4d-de60-46b9-be99-81e26015b61d",
   "metadata": {},
   "outputs": [],
   "source": []
  }
 ],
 "metadata": {
  "kernelspec": {
   "display_name": "Python 3 (ipykernel)",
   "language": "python",
   "name": "python3"
  },
  "language_info": {
   "codemirror_mode": {
    "name": "ipython",
    "version": 3
   },
   "file_extension": ".py",
   "mimetype": "text/x-python",
   "name": "python",
   "nbconvert_exporter": "python",
   "pygments_lexer": "ipython3",
   "version": "3.10.8"
  }
 },
 "nbformat": 4,
 "nbformat_minor": 5
}
